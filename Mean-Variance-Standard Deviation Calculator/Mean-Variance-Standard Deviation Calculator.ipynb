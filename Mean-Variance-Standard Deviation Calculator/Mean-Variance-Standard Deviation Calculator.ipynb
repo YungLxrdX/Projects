{
 "cells": [
  {
   "cell_type": "code",
   "execution_count": 1,
   "id": "8a3d19ec",
   "metadata": {},
   "outputs": [],
   "source": [
    "import numpy as np"
   ]
  },
  {
   "cell_type": "code",
   "execution_count": 2,
   "id": "077b25ff",
   "metadata": {},
   "outputs": [],
   "source": [
    "def MVSDC(X):\n",
    "    if len(X) == 9:\n",
    "        U = [[X[0], X[1], X[2]],\n",
    "            [X[3], X[4],X[5]],\n",
    "            [X[6], X[7], X[8]]]\n",
    "        Y = np.array(U)\n",
    "        M = [[],[]]\n",
    "        V = [[],[]]\n",
    "        STD = [[],[]]\n",
    "        MAX = [[],[]]\n",
    "        MIN = [[],[]]\n",
    "        SUM = [[],[]]\n",
    "        for i in np.arange(3):\n",
    "            M[0].append(Y[:,i].mean())\n",
    "            M[1].append(Y[i,:].mean())\n",
    "            V[0].append(Y[:,i].var())\n",
    "            V[1].append(Y[i,:].var())\n",
    "            STD[0].append(Y[:,i].std())\n",
    "            STD[1].append(Y[i,:].std())\n",
    "            MAX[0].append(Y[:,i].max())\n",
    "            MAX[1].append(Y[i,:].max())\n",
    "            MIN[0].append(Y[:,i].min())\n",
    "            MIN[1].append(Y[i,:].min())\n",
    "            SUM[0].append(Y[:,i].sum())\n",
    "            SUM[1].append(Y[i,:].sum())\n",
    "            \n",
    "        M.append(Y.mean())\n",
    "        V.append(Y.var())\n",
    "        STD.append(Y.std())\n",
    "        MAX.append(Y.max())\n",
    "        MIN.append(Y.min())\n",
    "        SUM.append(Y.sum())\n",
    "        calculations =  {'mean': M,\n",
    "                        'variance': V,\n",
    "                        'standard deviation': STD,\n",
    "                        'max': MAX,\n",
    "                        'min': MIN,\n",
    "                        'sum': SUM}\n",
    "        \n",
    "        return calculations\n",
    "    else:\n",
    "        raise ValueError(\"List must contain nine numbers.\")\n",
    "        \n",
    "        \n",
    "        "
   ]
  },
  {
   "cell_type": "code",
   "execution_count": 3,
   "id": "01b8123d",
   "metadata": {},
   "outputs": [
    {
     "data": {
      "text/plain": [
       "{'mean': [[3.6666666666666665, 5.0, 3.0],\n",
       "  [3.3333333333333335, 4.0, 4.333333333333333],\n",
       "  3.888888888888889],\n",
       " 'variance': [[9.555555555555557, 0.6666666666666666, 8.666666666666666],\n",
       "  [3.555555555555556, 10.666666666666666, 6.222222222222221],\n",
       "  6.987654320987654],\n",
       " 'standard deviation': [[3.091206165165235,\n",
       "   0.816496580927726,\n",
       "   2.943920288775949],\n",
       "  [1.8856180831641267, 3.265986323710904, 2.494438257849294],\n",
       "  2.6434171674156266],\n",
       " 'max': [[8, 6, 7], [6, 8, 7], 8],\n",
       " 'min': [[1, 4, 0], [2, 0, 1], 0],\n",
       " 'sum': [[11, 15, 9], [10, 12, 13], 35]}"
      ]
     },
     "execution_count": 3,
     "metadata": {},
     "output_type": "execute_result"
    }
   ],
   "source": [
    "MVSDC([2,6,2,8,4,0,1,5,7])"
   ]
  },
  {
   "cell_type": "code",
   "execution_count": null,
   "id": "57bb44d4",
   "metadata": {},
   "outputs": [],
   "source": []
  }
 ],
 "metadata": {
  "kernelspec": {
   "display_name": "Python 3 (ipykernel)",
   "language": "python",
   "name": "python3"
  },
  "language_info": {
   "codemirror_mode": {
    "name": "ipython",
    "version": 3
   },
   "file_extension": ".py",
   "mimetype": "text/x-python",
   "name": "python",
   "nbconvert_exporter": "python",
   "pygments_lexer": "ipython3",
   "version": "3.9.7"
  }
 },
 "nbformat": 4,
 "nbformat_minor": 5
}
