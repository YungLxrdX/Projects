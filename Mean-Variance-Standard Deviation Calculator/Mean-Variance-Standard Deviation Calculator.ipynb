{
 "cells": [
  {
   "cell_type": "code",
   "execution_count": 1,
   "id": "51d3c16f",
   "metadata": {},
   "outputs": [],
   "source": [
    "import numpy as np"
   ]
  },
  {
   "cell_type": "code",
   "execution_count": 176,
   "id": "cc099127",
   "metadata": {},
   "outputs": [],
   "source": [
    "def MVSDC(X):\n",
    "    if (len(X) == 9)&(np.isnan(np.array(X)).sum() < 1):\n",
    "        U = [[X[0], X[1], X[2]],\n",
    "             [X[3], X[4],X[5]],\n",
    "             [X[6], X[7], X[8]]]\n",
    "        Y = np.array(U)\n",
    "        M = [[],[]]\n",
    "        V = [[],[]]\n",
    "        STD = [[],[]]\n",
    "        MAX = [[],[]]\n",
    "        MIN = [[],[]]\n",
    "        SUM = [[],[]]\n",
    "        for i in np.arange(3):\n",
    "            M[0].append(round(Y[:,i].mean(),3))\n",
    "            M[1].append(round(Y[:,i].mean(),3))\n",
    "            V[0].append(round(Y[:,i].var(),3))\n",
    "            V[1].append(round(Y[i,:].var(), 3))\n",
    "            STD[0].append(round(Y[:,i].std(),3))\n",
    "            STD[1].append(round(Y[i,:].std(), 3))\n",
    "            MAX[0].append(Y[:,i].max())\n",
    "            MAX[1].append(Y[i,:].max())\n",
    "            MIN[0].append(Y[:,i].min())\n",
    "            MIN[1].append(Y[i,:].min())\n",
    "            SUM[0].append(Y[:,i].sum())\n",
    "            SUM[1].append(Y[i,:].sum())\n",
    "            \n",
    "        M.append(round(Y.mean(), 3))\n",
    "        V.append(round(Y.var(),3))\n",
    "        STD.append(round(Y.std(),3))\n",
    "        MAX.append(Y.max())\n",
    "        MIN.append(Y.min())\n",
    "        SUM.append(Y.sum())\n",
    "        \n",
    "        return {'Mean': M,\n",
    "            'Variance': V,\n",
    "            'SD': STD,\n",
    "            'Max': MAX,\n",
    "            'Min': MIN,\n",
    "            'Sum': SUM}\n",
    "    else:\n",
    "        print(\"List must contain nine numbers.\")\n",
    "        \n",
    "        \n",
    "        "
   ]
  },
  {
   "cell_type": "code",
   "execution_count": 177,
   "id": "ae2031b4",
   "metadata": {},
   "outputs": [
    {
     "data": {
      "text/plain": [
       "{'Mean': [[3.0, 4.0, 5.667], [3.0, 4.0, 5.667], 4.222],\n",
       " 'Variance': [[6.0, 6.0, 10.889], [0.667, 0.667, 2.889], 8.84],\n",
       " 'SD': [[2.449, 2.449, 3.3], [0.816, 0.816, 1.7], 2.973],\n",
       " 'Max': [[6, 7, 10], [2, 5, 10], 10],\n",
       " 'Min': [[0, 1, 2], [0, 3, 6], 0],\n",
       " 'Sum': [[9, 12, 17], [3, 12, 23], 38]}"
      ]
     },
     "execution_count": 177,
     "metadata": {},
     "output_type": "execute_result"
    }
   ],
   "source": [
    "MVSDC([0,1,2,3,4,5,6,7,10])"
   ]
  },
  {
   "cell_type": "code",
   "execution_count": null,
   "id": "672acf0f",
   "metadata": {},
   "outputs": [],
   "source": []
  }
 ],
 "metadata": {
  "kernelspec": {
   "display_name": "Python 3 (ipykernel)",
   "language": "python",
   "name": "python3"
  },
  "language_info": {
   "codemirror_mode": {
    "name": "ipython",
    "version": 3
   },
   "file_extension": ".py",
   "mimetype": "text/x-python",
   "name": "python",
   "nbconvert_exporter": "python",
   "pygments_lexer": "ipython3",
   "version": "3.9.7"
  }
 },
 "nbformat": 4,
 "nbformat_minor": 5
}
