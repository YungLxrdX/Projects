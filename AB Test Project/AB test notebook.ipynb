{
 "cells": [
  {
   "cell_type": "markdown",
   "id": "d2713a5a",
   "metadata": {},
   "source": [
    "### Import libraries, date and checking of data types"
   ]
  },
  {
   "cell_type": "code",
   "execution_count": 57,
   "id": "e3d16ed3",
   "metadata": {},
   "outputs": [],
   "source": [
    "import pandas as pd\n",
    "import numpy as np\n",
    "import matplotlib.pyplot as plt\n",
    "import seaborn as sns\n",
    "import scipy\n",
    "from scipy import stats\n",
    "\n",
    "%matplotlib inline"
   ]
  },
  {
   "cell_type": "code",
   "execution_count": 58,
   "id": "136581da",
   "metadata": {},
   "outputs": [
    {
     "data": {
      "text/html": [
       "<div>\n",
       "<style scoped>\n",
       "    .dataframe tbody tr th:only-of-type {\n",
       "        vertical-align: middle;\n",
       "    }\n",
       "\n",
       "    .dataframe tbody tr th {\n",
       "        vertical-align: top;\n",
       "    }\n",
       "\n",
       "    .dataframe thead th {\n",
       "        text-align: right;\n",
       "    }\n",
       "</style>\n",
       "<table border=\"1\" class=\"dataframe\">\n",
       "  <thead>\n",
       "    <tr style=\"text-align: right;\">\n",
       "      <th></th>\n",
       "      <th>user_id</th>\n",
       "      <th>timestamp</th>\n",
       "      <th>group</th>\n",
       "      <th>landing_page</th>\n",
       "      <th>converted</th>\n",
       "    </tr>\n",
       "  </thead>\n",
       "  <tbody>\n",
       "    <tr>\n",
       "      <th>0</th>\n",
       "      <td>851104</td>\n",
       "      <td>2017-01-21 22:11:48.556739</td>\n",
       "      <td>control</td>\n",
       "      <td>old_page</td>\n",
       "      <td>0</td>\n",
       "    </tr>\n",
       "    <tr>\n",
       "      <th>1</th>\n",
       "      <td>804228</td>\n",
       "      <td>2017-01-12 08:01:45.159739</td>\n",
       "      <td>control</td>\n",
       "      <td>old_page</td>\n",
       "      <td>0</td>\n",
       "    </tr>\n",
       "    <tr>\n",
       "      <th>2</th>\n",
       "      <td>661590</td>\n",
       "      <td>2017-01-11 16:55:06.154213</td>\n",
       "      <td>treatment</td>\n",
       "      <td>new_page</td>\n",
       "      <td>0</td>\n",
       "    </tr>\n",
       "    <tr>\n",
       "      <th>3</th>\n",
       "      <td>853541</td>\n",
       "      <td>2017-01-08 18:28:03.143765</td>\n",
       "      <td>treatment</td>\n",
       "      <td>new_page</td>\n",
       "      <td>0</td>\n",
       "    </tr>\n",
       "    <tr>\n",
       "      <th>4</th>\n",
       "      <td>864975</td>\n",
       "      <td>2017-01-21 01:52:26.210827</td>\n",
       "      <td>control</td>\n",
       "      <td>old_page</td>\n",
       "      <td>1</td>\n",
       "    </tr>\n",
       "  </tbody>\n",
       "</table>\n",
       "</div>"
      ],
      "text/plain": [
       "   user_id                  timestamp      group landing_page  converted\n",
       "0   851104 2017-01-21 22:11:48.556739    control     old_page          0\n",
       "1   804228 2017-01-12 08:01:45.159739    control     old_page          0\n",
       "2   661590 2017-01-11 16:55:06.154213  treatment     new_page          0\n",
       "3   853541 2017-01-08 18:28:03.143765  treatment     new_page          0\n",
       "4   864975 2017-01-21 01:52:26.210827    control     old_page          1"
      ]
     },
     "execution_count": 58,
     "metadata": {},
     "output_type": "execute_result"
    }
   ],
   "source": [
    "url = 'https://raw.githubusercontent.com/inreleppik/Projects/main/AB%20Test%20Project/Data/ab_data.csv'\n",
    "df = pd.read_csv(url)\n",
    "df['timestamp'] = pd.to_datetime(df.timestamp)\n",
    "df.head()"
   ]
  },
  {
   "cell_type": "code",
   "execution_count": 59,
   "id": "296f82e9",
   "metadata": {},
   "outputs": [
    {
     "data": {
      "text/plain": [
       "805339    2\n",
       "754884    2\n",
       "722274    2\n",
       "783176    2\n",
       "898232    2\n",
       "         ..\n",
       "642985    1\n",
       "771499    1\n",
       "923606    1\n",
       "712675    1\n",
       "715931    1\n",
       "Name: user_id, Length: 290584, dtype: int64"
      ]
     },
     "execution_count": 59,
     "metadata": {},
     "output_type": "execute_result"
    }
   ],
   "source": [
    "df.user_id.value_counts()"
   ]
  },
  {
   "cell_type": "code",
   "execution_count": 60,
   "id": "26bc3640",
   "metadata": {},
   "outputs": [
    {
     "data": {
      "text/plain": [
       "user_id                  int64\n",
       "timestamp       datetime64[ns]\n",
       "group                   object\n",
       "landing_page            object\n",
       "converted                int64\n",
       "dtype: object"
      ]
     },
     "execution_count": 60,
     "metadata": {},
     "output_type": "execute_result"
    }
   ],
   "source": [
    "df.dtypes"
   ]
  },
  {
   "cell_type": "markdown",
   "id": "df6aa3db",
   "metadata": {},
   "source": [
    "### Checking to see if there are any users in control group that saw new page and users in treatment group that saw old page"
   ]
  },
  {
   "cell_type": "code",
   "execution_count": 61,
   "id": "a1662680",
   "metadata": {},
   "outputs": [
    {
     "data": {
      "text/html": [
       "<div>\n",
       "<style scoped>\n",
       "    .dataframe tbody tr th:only-of-type {\n",
       "        vertical-align: middle;\n",
       "    }\n",
       "\n",
       "    .dataframe tbody tr th {\n",
       "        vertical-align: top;\n",
       "    }\n",
       "\n",
       "    .dataframe thead th {\n",
       "        text-align: right;\n",
       "    }\n",
       "</style>\n",
       "<table border=\"1\" class=\"dataframe\">\n",
       "  <thead>\n",
       "    <tr style=\"text-align: right;\">\n",
       "      <th></th>\n",
       "      <th></th>\n",
       "      <th>user_id</th>\n",
       "      <th>timestamp</th>\n",
       "      <th>converted</th>\n",
       "    </tr>\n",
       "    <tr>\n",
       "      <th>group</th>\n",
       "      <th>landing_page</th>\n",
       "      <th></th>\n",
       "      <th></th>\n",
       "      <th></th>\n",
       "    </tr>\n",
       "  </thead>\n",
       "  <tbody>\n",
       "    <tr>\n",
       "      <th rowspan=\"2\" valign=\"top\">control</th>\n",
       "      <th>new_page</th>\n",
       "      <td>1928</td>\n",
       "      <td>1928</td>\n",
       "      <td>1928</td>\n",
       "    </tr>\n",
       "    <tr>\n",
       "      <th>old_page</th>\n",
       "      <td>145274</td>\n",
       "      <td>145274</td>\n",
       "      <td>145274</td>\n",
       "    </tr>\n",
       "    <tr>\n",
       "      <th rowspan=\"2\" valign=\"top\">treatment</th>\n",
       "      <th>new_page</th>\n",
       "      <td>145311</td>\n",
       "      <td>145311</td>\n",
       "      <td>145311</td>\n",
       "    </tr>\n",
       "    <tr>\n",
       "      <th>old_page</th>\n",
       "      <td>1965</td>\n",
       "      <td>1965</td>\n",
       "      <td>1965</td>\n",
       "    </tr>\n",
       "  </tbody>\n",
       "</table>\n",
       "</div>"
      ],
      "text/plain": [
       "                        user_id  timestamp  converted\n",
       "group     landing_page                               \n",
       "control   new_page         1928       1928       1928\n",
       "          old_page       145274     145274     145274\n",
       "treatment new_page       145311     145311     145311\n",
       "          old_page         1965       1965       1965"
      ]
     },
     "execution_count": 61,
     "metadata": {},
     "output_type": "execute_result"
    }
   ],
   "source": [
    "df.groupby(['group', 'landing_page']).count()"
   ]
  },
  {
   "cell_type": "markdown",
   "id": "6dcf0b9b",
   "metadata": {},
   "source": [
    "### Removing control/new_page and treatment/old_page"
   ]
  },
  {
   "cell_type": "code",
   "execution_count": 62,
   "id": "42945b8b",
   "metadata": {},
   "outputs": [
    {
     "data": {
      "text/html": [
       "<div>\n",
       "<style scoped>\n",
       "    .dataframe tbody tr th:only-of-type {\n",
       "        vertical-align: middle;\n",
       "    }\n",
       "\n",
       "    .dataframe tbody tr th {\n",
       "        vertical-align: top;\n",
       "    }\n",
       "\n",
       "    .dataframe thead th {\n",
       "        text-align: right;\n",
       "    }\n",
       "</style>\n",
       "<table border=\"1\" class=\"dataframe\">\n",
       "  <thead>\n",
       "    <tr style=\"text-align: right;\">\n",
       "      <th></th>\n",
       "      <th></th>\n",
       "      <th>user_id</th>\n",
       "      <th>timestamp</th>\n",
       "      <th>converted</th>\n",
       "    </tr>\n",
       "    <tr>\n",
       "      <th>group</th>\n",
       "      <th>landing_page</th>\n",
       "      <th></th>\n",
       "      <th></th>\n",
       "      <th></th>\n",
       "    </tr>\n",
       "  </thead>\n",
       "  <tbody>\n",
       "    <tr>\n",
       "      <th>control</th>\n",
       "      <th>old_page</th>\n",
       "      <td>145274</td>\n",
       "      <td>145274</td>\n",
       "      <td>145274</td>\n",
       "    </tr>\n",
       "    <tr>\n",
       "      <th>treatment</th>\n",
       "      <th>new_page</th>\n",
       "      <td>145311</td>\n",
       "      <td>145311</td>\n",
       "      <td>145311</td>\n",
       "    </tr>\n",
       "  </tbody>\n",
       "</table>\n",
       "</div>"
      ],
      "text/plain": [
       "                        user_id  timestamp  converted\n",
       "group     landing_page                               \n",
       "control   old_page       145274     145274     145274\n",
       "treatment new_page       145311     145311     145311"
      ]
     },
     "execution_count": 62,
     "metadata": {},
     "output_type": "execute_result"
    }
   ],
   "source": [
    "df = df.loc[(df['group'] == 'control')&(df['landing_page'] == 'old_page')|\n",
    "           (df['group'] == 'treatment')&(df['landing_page'] == 'new_page')]\n",
    "df.groupby(['group', 'landing_page']).count()"
   ]
  },
  {
   "cell_type": "markdown",
   "id": "f4d36e50",
   "metadata": {},
   "source": [
    "### Checking for duplicate values"
   ]
  },
  {
   "cell_type": "code",
   "execution_count": 63,
   "id": "799507d9",
   "metadata": {},
   "outputs": [
    {
     "data": {
      "text/plain": [
       "1"
      ]
     },
     "execution_count": 63,
     "metadata": {},
     "output_type": "execute_result"
    }
   ],
   "source": [
    "df['user_id'].duplicated().sum()"
   ]
  },
  {
   "cell_type": "markdown",
   "id": "2ce17866",
   "metadata": {},
   "source": [
    "### Finding user_id for duplicate value"
   ]
  },
  {
   "cell_type": "code",
   "execution_count": 64,
   "id": "f676891a",
   "metadata": {},
   "outputs": [
    {
     "data": {
      "text/plain": [
       "1899    773192\n",
       "2893    773192\n",
       "Name: user_id, dtype: int64"
      ]
     },
     "execution_count": 64,
     "metadata": {},
     "output_type": "execute_result"
    }
   ],
   "source": [
    "df[df.duplicated(['user_id'], keep=False)]['user_id']"
   ]
  },
  {
   "cell_type": "code",
   "execution_count": 65,
   "id": "6818cefe",
   "metadata": {},
   "outputs": [
    {
     "data": {
      "text/html": [
       "<div>\n",
       "<style scoped>\n",
       "    .dataframe tbody tr th:only-of-type {\n",
       "        vertical-align: middle;\n",
       "    }\n",
       "\n",
       "    .dataframe tbody tr th {\n",
       "        vertical-align: top;\n",
       "    }\n",
       "\n",
       "    .dataframe thead th {\n",
       "        text-align: right;\n",
       "    }\n",
       "</style>\n",
       "<table border=\"1\" class=\"dataframe\">\n",
       "  <thead>\n",
       "    <tr style=\"text-align: right;\">\n",
       "      <th></th>\n",
       "      <th>user_id</th>\n",
       "      <th>timestamp</th>\n",
       "      <th>group</th>\n",
       "      <th>landing_page</th>\n",
       "      <th>converted</th>\n",
       "    </tr>\n",
       "  </thead>\n",
       "  <tbody>\n",
       "    <tr>\n",
       "      <th>1899</th>\n",
       "      <td>773192</td>\n",
       "      <td>2017-01-09 05:37:58.781806</td>\n",
       "      <td>treatment</td>\n",
       "      <td>new_page</td>\n",
       "      <td>0</td>\n",
       "    </tr>\n",
       "    <tr>\n",
       "      <th>2893</th>\n",
       "      <td>773192</td>\n",
       "      <td>2017-01-14 02:55:59.590927</td>\n",
       "      <td>treatment</td>\n",
       "      <td>new_page</td>\n",
       "      <td>0</td>\n",
       "    </tr>\n",
       "  </tbody>\n",
       "</table>\n",
       "</div>"
      ],
      "text/plain": [
       "      user_id                  timestamp      group landing_page  converted\n",
       "1899   773192 2017-01-09 05:37:58.781806  treatment     new_page          0\n",
       "2893   773192 2017-01-14 02:55:59.590927  treatment     new_page          0"
      ]
     },
     "execution_count": 65,
     "metadata": {},
     "output_type": "execute_result"
    }
   ],
   "source": [
    "df[df['user_id'] == 773192]"
   ]
  },
  {
   "cell_type": "code",
   "execution_count": 66,
   "id": "71698c36",
   "metadata": {},
   "outputs": [],
   "source": [
    "df = df.drop_duplicates(subset='user_id', keep='first')"
   ]
  },
  {
   "cell_type": "code",
   "execution_count": 67,
   "id": "e900664d",
   "metadata": {},
   "outputs": [],
   "source": [
    "groups = df.groupby(['group', 'landing_page', 'converted'], as_index=False).count()\n",
    "groups.rename(columns={'user_id': 'users'}, inplace = True)"
   ]
  },
  {
   "cell_type": "code",
   "execution_count": 97,
   "id": "57968757",
   "metadata": {},
   "outputs": [
    {
     "data": {
      "image/png": "[encoded data removed]",
      "text/plain": [
       "<Figure size 720x360 with 2 Axes>"
      ]
     },
     "metadata": {
      "needs_background": "light"
     },
     "output_type": "display_data"
    }
   ],
   "source": [
    "sns.catplot(data=groups, x= 'converted', y= 'users', col = 'landing_page', kind='bar')\n",
    "plt.show()"
   ]
  },
  {
   "cell_type": "code",
   "execution_count": 90,
   "id": "70c1262b",
   "metadata": {},
   "outputs": [
    {
     "data": {
      "image/png": "[encoded data removed]",
      "text/plain": [
       "<Figure size 576x576 with 1 Axes>"
      ]
     },
     "metadata": {},
     "output_type": "display_data"
    }
   ],
   "source": [
    "fix, ax = plt.subplots(figsize=(8,8))\n",
    "data = df.landing_page.value_counts()\n",
    "colors = sns.color_palette('pastel')[8:10]\n",
    "labels = ['Old page', 'New Page']\n",
    "title = 'Landing Page'\n",
    "plt.pie(data, labels=labels, colors=colors, autopct='%.0f%%')\n",
    "plt.title('Landing page')\n",
    "plt.show()"
   ]
  },
  {
   "cell_type": "markdown",
   "id": "58470173",
   "metadata": {},
   "source": [
    "### Re-arrange data into 2x2 for Chi-Squared"
   ]
  },
  {
   "cell_type": "code",
   "execution_count": 70,
   "id": "3dd17f1f",
   "metadata": {},
   "outputs": [
    {
     "name": "stdout",
     "output_type": "stream",
     "text": [
      "0.18988337448194853\n"
     ]
    }
   ],
   "source": [
    "# 1) Split groups into two separate DataFrames\n",
    "a = df[df.group == 'control']\n",
    "b = df[df.group == 'treatment']\n",
    "\n",
    "# 2) A-click, A-noclick, B-click, B-noclick\n",
    "a_click = a.converted.sum()\n",
    "a_noclick = a.converted.size - a.converted.sum()\n",
    "\n",
    "b_click = b.converted.sum()\n",
    "b_noclick = b.converted.size - b.converted.sum()\n",
    "\n",
    "# 3) create numpy array\n",
    "T = np.array([[a_click, a_noclick], [b_click, b_noclick]])\n",
    "p_v = stats.chi2_contingency(T, correction=False)[1]\n",
    "print(p_v)"
   ]
  },
  {
   "cell_type": "markdown",
   "id": "494b3a1b",
   "metadata": {},
   "source": [
    "### The p-value was calculated to be 19%. Assuming a 5% level of significance, we can deduce that the p-value is greater than the alpha and that we do not reject the null hypothesis. In simpler terms, there is no significance in conversions between the old and new webpage."
   ]
  },
  {
   "cell_type": "markdown",
   "id": "07eabd6e",
   "metadata": {},
   "source": [
    "#### Sanity Check"
   ]
  },
  {
   "cell_type": "code",
   "execution_count": 71,
   "id": "3fbd099c",
   "metadata": {},
   "outputs": [
    {
     "name": "stdout",
     "output_type": "stream",
     "text": [
      "0.1203863045004612 0.11880806551510564\n"
     ]
    }
   ],
   "source": [
    "a_CTR = a_click / (a_click + a_noclick)\n",
    "b_CTR = b_click / (b_click + b_noclick)\n",
    "print(a_CTR, b_CTR)"
   ]
  },
  {
   "cell_type": "markdown",
   "id": "3bcbee85",
   "metadata": {},
   "source": [
    "### As a sanity check, I calculated the conversion rates between the two groups and the difference between them is minimal, which reassures that this was conducted properly."
   ]
  }
 ],
 "metadata": {
  "kernelspec": {
   "display_name": "Python 3 (ipykernel)",
   "language": "python",
   "name": "python3"
  },
  "language_info": {
   "codemirror_mode": {
    "name": "ipython",
    "version": 3
   },
   "file_extension": ".py",
   "mimetype": "text/x-python",
   "name": "python",
   "nbconvert_exporter": "python",
   "pygments_lexer": "ipython3",
   "version": "3.9.7"
  }
 },
 "nbformat": 4,
 "nbformat_minor": 5
}
